{
  "nbformat": 4,
  "nbformat_minor": 0,
  "metadata": {
    "colab": {
      "provenance": [],
      "authorship_tag": "ABX9TyMzARWkrXV6WybogE186PJQ",
      "include_colab_link": true
    },
    "kernelspec": {
      "name": "python3",
      "display_name": "Python 3"
    },
    "language_info": {
      "name": "python"
    }
  },
  "cells": [
    {
      "cell_type": "markdown",
      "metadata": {
        "id": "view-in-github",
        "colab_type": "text"
      },
      "source": [
        "<a href=\"https://colab.research.google.com/github/Hammadali23/diamond_pattern/blob/main/diamond_pattern.ipynb\" target=\"_parent\"><img src=\"https://colab.research.google.com/assets/colab-badge.svg\" alt=\"Open In Colab\"/></a>"
      ]
    },
    {
      "cell_type": "code",
      "execution_count": 1,
      "metadata": {
        "colab": {
          "base_uri": "https://localhost:8080/"
        },
        "id": "AWwBPW9CVg8z",
        "outputId": "9c3b56fa-7cd8-4a1a-fc96-306c09794fc0"
      },
      "outputs": [
        {
          "output_type": "stream",
          "name": "stdout",
          "text": [
            "    *\n",
            "   ***\n",
            "  *****\n",
            " *******\n",
            "*********\n",
            " *******\n",
            "  *****\n",
            "   ***\n",
            "    *\n"
          ]
        }
      ],
      "source": [
        "def draw_diamond(rows):\n",
        "    # Upper pyramid\n",
        "    for i in range(1, rows + 1):\n",
        "        spaces = \" \" * (rows - i)\n",
        "        stars = \"*\" * (2 * i - 1)\n",
        "        print(spaces + stars)\n",
        "\n",
        "    # Lower inverted pyramid\n",
        "    for i in range(rows - 1, 0, -1):\n",
        "        spaces = \" \" * (rows - i)\n",
        "        stars = \"*\" * (2 * i - 1)\n",
        "        print(spaces + stars)\n",
        "\n",
        "draw_diamond(5)\n"
      ]
    }
  ]
}